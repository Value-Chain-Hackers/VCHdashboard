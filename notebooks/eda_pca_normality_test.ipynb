{
 "cells": [
  {
   "cell_type": "markdown",
   "id": "beef9c44",
   "metadata": {},
   "source": [
    "# Feature Extractions, PCA, Normality Test\n",
    "- Name: Minh T. Nguyen\n",
    "- Date: 11/24/2023\n",
    "- About:\n",
    "    - **Description Sentiment Analysis**: Use pretrained models to performed sentimental analysis and create new feature.\n",
    "    - **Features Extraction**: Based on the provided features let's create new features.\n",
    "        - Use the processed sentiment dataset\n",
    "    - **Clean up the dataset for classical ML modeling.**"
   ]
  },
  {
   "cell_type": "code",
   "execution_count": 1,
   "id": "877e4450",
   "metadata": {},
   "outputs": [
    {
     "name": "stdout",
     "output_type": "stream",
     "text": [
      "database.db\t\t     sentimental_extraction_kaggle.csv\r\n",
      "final_dataset_image.json     sentimental_extraction_kaggle.json\r\n",
      "final_dataset_no_image.json  sentimental_extraction_sample.csv\r\n",
      "images_sample\t\t     train.json\r\n",
      "Kaggle-renthop.torrent\r\n"
     ]
    }
   ],
   "source": [
    "!ls ../data"
   ]
  },
  {
   "cell_type": "markdown",
   "id": "e3dc674f",
   "metadata": {},
   "source": [
    "**Note:** The datasets can be found [here]((https://www.kaggle.com/competitions/two-sigma-connect-rental-listing-inquiries/data?select=train.json.zip)).\n",
    "- train.json: the training set.\n",
    "- images_sample.zip: listing images organized by listing_id (a sample of 100 listings)\n",
    "- Kaggle-renthop.7z: listing images organized by listing_id. Total size: 78.5 GB compressed."
   ]
  },
  {
   "cell_type": "code",
   "execution_count": 2,
   "id": "aa2e09bc",
   "metadata": {},
   "outputs": [
    {
     "name": "stderr",
     "output_type": "stream",
     "text": [
      "/home/mnguyen0226/anaconda3/lib/python3.9/site-packages/pandas/core/computation/expressions.py:21: UserWarning: Pandas requires version '2.8.0' or newer of 'numexpr' (version '2.7.3' currently installed).\n",
      "  from pandas.core.computation.check import NUMEXPR_INSTALLED\n",
      "/home/mnguyen0226/anaconda3/lib/python3.9/site-packages/pandas/core/arrays/masked.py:62: UserWarning: Pandas requires version '1.3.4' or newer of 'bottleneck' (version '1.3.2' currently installed).\n",
      "  from pandas.core import (\n"
     ]
    }
   ],
   "source": [
    "# import libraries\n",
    "import numpy as np\n",
    "import pandas as pd\n",
    "from collections import Counter\n",
    "import re\n",
    "import os\n",
    "\n",
    "from sklearn.decomposition import PCA\n",
    "from sklearn.preprocessing import StandardScaler\n",
    "import matplotlib.pyplot as plt\n",
    "from numpy.linalg import svd\n",
    "import scipy.stats as st\n",
    "\n",
    "import warnings\n",
    "warnings.filterwarnings('ignore')"
   ]
  },
  {
   "cell_type": "markdown",
   "id": "fea9abe2",
   "metadata": {},
   "source": [
    "## 1. Import dataset"
   ]
  },
  {
   "cell_type": "code",
   "execution_count": 3,
   "id": "80582f44",
   "metadata": {},
   "outputs": [
    {
     "data": {
      "text/html": [
       "<div>\n",
       "<style scoped>\n",
       "    .dataframe tbody tr th:only-of-type {\n",
       "        vertical-align: middle;\n",
       "    }\n",
       "\n",
       "    .dataframe tbody tr th {\n",
       "        vertical-align: top;\n",
       "    }\n",
       "\n",
       "    .dataframe thead th {\n",
       "        text-align: right;\n",
       "    }\n",
       "</style>\n",
       "<table border=\"1\" class=\"dataframe\">\n",
       "  <thead>\n",
       "    <tr style=\"text-align: right;\">\n",
       "      <th></th>\n",
       "      <th>bathrooms</th>\n",
       "      <th>bedrooms</th>\n",
       "      <th>building_id</th>\n",
       "      <th>created</th>\n",
       "      <th>description</th>\n",
       "      <th>display_address</th>\n",
       "      <th>features</th>\n",
       "      <th>latitude</th>\n",
       "      <th>listing_id</th>\n",
       "      <th>longitude</th>\n",
       "      <th>manager_id</th>\n",
       "      <th>photos</th>\n",
       "      <th>price</th>\n",
       "      <th>street_address</th>\n",
       "      <th>interest_level</th>\n",
       "      <th>clean_description</th>\n",
       "      <th>truncated_description</th>\n",
       "      <th>sentiment</th>\n",
       "      <th>sentiment_label</th>\n",
       "    </tr>\n",
       "  </thead>\n",
       "  <tbody>\n",
       "    <tr>\n",
       "      <th>4</th>\n",
       "      <td>1.0</td>\n",
       "      <td>1</td>\n",
       "      <td>8579a0b0d54db803821a35a4a615e97a</td>\n",
       "      <td>2016-06-16 05:55:27</td>\n",
       "      <td>Spacious 1 Bedroom 1 Bathroom in Williamsburg!...</td>\n",
       "      <td>145 Borinquen Place</td>\n",
       "      <td>[Dining Room, Pre-War, Laundry in Building, Di...</td>\n",
       "      <td>40.7108</td>\n",
       "      <td>7170325</td>\n",
       "      <td>-73.9539</td>\n",
       "      <td>a10db4590843d78c784171a107bdacb4</td>\n",
       "      <td>[https://photos.renthop.com/2/7170325_3bb5ac84...</td>\n",
       "      <td>2400</td>\n",
       "      <td>145 Borinquen Place</td>\n",
       "      <td>medium</td>\n",
       "      <td>Spacious 1 Bedroom 1 Bathroom in Williamsburg!...</td>\n",
       "      <td>spacious 1 bedroom 1 bathroom in williamsburg!...</td>\n",
       "      <td>{'label': 'POSITIVE', 'score': 0.8850623965000...</td>\n",
       "      <td>1</td>\n",
       "    </tr>\n",
       "    <tr>\n",
       "      <th>6</th>\n",
       "      <td>1.0</td>\n",
       "      <td>2</td>\n",
       "      <td>b8e75fc949a6cd8225b455648a951712</td>\n",
       "      <td>2016-06-01 05:44:33</td>\n",
       "      <td>BRAND NEW GUT RENOVATED TRUE 2 BEDROOMFind you...</td>\n",
       "      <td>East 44th</td>\n",
       "      <td>[Doorman, Elevator, Laundry in Building, Dishw...</td>\n",
       "      <td>40.7513</td>\n",
       "      <td>7092344</td>\n",
       "      <td>-73.9722</td>\n",
       "      <td>955db33477af4f40004820b4aed804a0</td>\n",
       "      <td>[https://photos.renthop.com/2/7092344_7663c19a...</td>\n",
       "      <td>3800</td>\n",
       "      <td>230 East 44th</td>\n",
       "      <td>low</td>\n",
       "      <td>BRAND NEW GUT RENOVATED TRUE 2 BEDROOMFind you...</td>\n",
       "      <td>brand new gut renovated true 2 bedroomfind you...</td>\n",
       "      <td>{'label': 'POSITIVE', 'score': 0.9983743429}</td>\n",
       "      <td>1</td>\n",
       "    </tr>\n",
       "    <tr>\n",
       "      <th>9</th>\n",
       "      <td>1.0</td>\n",
       "      <td>2</td>\n",
       "      <td>cd759a988b8f23924b5a2058d5ab2b49</td>\n",
       "      <td>2016-06-14 15:19:59</td>\n",
       "      <td>**FLEX 2 BEDROOM WITH FULL PRESSURIZED WALL**L...</td>\n",
       "      <td>East 56th Street</td>\n",
       "      <td>[Doorman, Elevator, Laundry in Building, Laund...</td>\n",
       "      <td>40.7575</td>\n",
       "      <td>7158677</td>\n",
       "      <td>-73.9625</td>\n",
       "      <td>c8b10a317b766204f08e613cef4ce7a0</td>\n",
       "      <td>[https://photos.renthop.com/2/7158677_c897a134...</td>\n",
       "      <td>3495</td>\n",
       "      <td>405 East 56th Street</td>\n",
       "      <td>medium</td>\n",
       "      <td>**FLEX 2 BEDROOM WITH FULL PRESSURIZED WALL**L...</td>\n",
       "      <td>* * flex 2 bedroom with full pressurized wall ...</td>\n",
       "      <td>{'label': 'POSITIVE', 'score': 0.9986716509}</td>\n",
       "      <td>1</td>\n",
       "    </tr>\n",
       "    <tr>\n",
       "      <th>10</th>\n",
       "      <td>1.5</td>\n",
       "      <td>3</td>\n",
       "      <td>53a5b119ba8f7b61d4e010512e0dfc85</td>\n",
       "      <td>2016-06-24 07:54:24</td>\n",
       "      <td>A Brand New 3 Bedroom 1.5 bath ApartmentEnjoy ...</td>\n",
       "      <td>Metropolitan Avenue</td>\n",
       "      <td>[]</td>\n",
       "      <td>40.7145</td>\n",
       "      <td>7211212</td>\n",
       "      <td>-73.9425</td>\n",
       "      <td>5ba989232d0489da1b5f2c45f6688adc</td>\n",
       "      <td>[https://photos.renthop.com/2/7211212_1ed4542e...</td>\n",
       "      <td>3000</td>\n",
       "      <td>792 Metropolitan Avenue</td>\n",
       "      <td>medium</td>\n",
       "      <td>A Brand New 3 Bedroom 1.5 bath ApartmentEnjoy ...</td>\n",
       "      <td>a brand new 3 bedroom 1. 5 bath apartmentenjoy...</td>\n",
       "      <td>{'label': 'NEGATIVE', 'score': 0.6298918724}</td>\n",
       "      <td>0</td>\n",
       "    </tr>\n",
       "    <tr>\n",
       "      <th>15</th>\n",
       "      <td>1.0</td>\n",
       "      <td>0</td>\n",
       "      <td>bfb9405149bfff42a92980b594c28234</td>\n",
       "      <td>2016-06-28 03:50:23</td>\n",
       "      <td>Over-sized Studio w abundant closets. Availabl...</td>\n",
       "      <td>East 34th Street</td>\n",
       "      <td>[Doorman, Elevator, Fitness Center, Laundry in...</td>\n",
       "      <td>40.7439</td>\n",
       "      <td>7225292</td>\n",
       "      <td>-73.9743</td>\n",
       "      <td>2c3b41f588fbb5234d8a1e885a436cfa</td>\n",
       "      <td>[https://photos.renthop.com/2/7225292_901f1984...</td>\n",
       "      <td>2795</td>\n",
       "      <td>340 East 34th Street</td>\n",
       "      <td>low</td>\n",
       "      <td>Over-sized Studio w abundant closets. Availabl...</td>\n",
       "      <td>over - sized studio w abundant closets. availa...</td>\n",
       "      <td>{'label': 'NEGATIVE', 'score': 0.9978052974}</td>\n",
       "      <td>0</td>\n",
       "    </tr>\n",
       "  </tbody>\n",
       "</table>\n",
       "</div>"
      ],
      "text/plain": [
       "    bathrooms  bedrooms                       building_id  \\\n",
       "4         1.0         1  8579a0b0d54db803821a35a4a615e97a   \n",
       "6         1.0         2  b8e75fc949a6cd8225b455648a951712   \n",
       "9         1.0         2  cd759a988b8f23924b5a2058d5ab2b49   \n",
       "10        1.5         3  53a5b119ba8f7b61d4e010512e0dfc85   \n",
       "15        1.0         0  bfb9405149bfff42a92980b594c28234   \n",
       "\n",
       "                created                                        description  \\\n",
       "4   2016-06-16 05:55:27  Spacious 1 Bedroom 1 Bathroom in Williamsburg!...   \n",
       "6   2016-06-01 05:44:33  BRAND NEW GUT RENOVATED TRUE 2 BEDROOMFind you...   \n",
       "9   2016-06-14 15:19:59  **FLEX 2 BEDROOM WITH FULL PRESSURIZED WALL**L...   \n",
       "10  2016-06-24 07:54:24  A Brand New 3 Bedroom 1.5 bath ApartmentEnjoy ...   \n",
       "15  2016-06-28 03:50:23  Over-sized Studio w abundant closets. Availabl...   \n",
       "\n",
       "        display_address                                           features  \\\n",
       "4   145 Borinquen Place  [Dining Room, Pre-War, Laundry in Building, Di...   \n",
       "6             East 44th  [Doorman, Elevator, Laundry in Building, Dishw...   \n",
       "9      East 56th Street  [Doorman, Elevator, Laundry in Building, Laund...   \n",
       "10  Metropolitan Avenue                                                 []   \n",
       "15     East 34th Street  [Doorman, Elevator, Fitness Center, Laundry in...   \n",
       "\n",
       "    latitude  listing_id  longitude                        manager_id  \\\n",
       "4    40.7108     7170325   -73.9539  a10db4590843d78c784171a107bdacb4   \n",
       "6    40.7513     7092344   -73.9722  955db33477af4f40004820b4aed804a0   \n",
       "9    40.7575     7158677   -73.9625  c8b10a317b766204f08e613cef4ce7a0   \n",
       "10   40.7145     7211212   -73.9425  5ba989232d0489da1b5f2c45f6688adc   \n",
       "15   40.7439     7225292   -73.9743  2c3b41f588fbb5234d8a1e885a436cfa   \n",
       "\n",
       "                                               photos  price  \\\n",
       "4   [https://photos.renthop.com/2/7170325_3bb5ac84...   2400   \n",
       "6   [https://photos.renthop.com/2/7092344_7663c19a...   3800   \n",
       "9   [https://photos.renthop.com/2/7158677_c897a134...   3495   \n",
       "10  [https://photos.renthop.com/2/7211212_1ed4542e...   3000   \n",
       "15  [https://photos.renthop.com/2/7225292_901f1984...   2795   \n",
       "\n",
       "             street_address interest_level  \\\n",
       "4       145 Borinquen Place         medium   \n",
       "6             230 East 44th            low   \n",
       "9      405 East 56th Street         medium   \n",
       "10  792 Metropolitan Avenue         medium   \n",
       "15     340 East 34th Street            low   \n",
       "\n",
       "                                    clean_description  \\\n",
       "4   Spacious 1 Bedroom 1 Bathroom in Williamsburg!...   \n",
       "6   BRAND NEW GUT RENOVATED TRUE 2 BEDROOMFind you...   \n",
       "9   **FLEX 2 BEDROOM WITH FULL PRESSURIZED WALL**L...   \n",
       "10  A Brand New 3 Bedroom 1.5 bath ApartmentEnjoy ...   \n",
       "15  Over-sized Studio w abundant closets. Availabl...   \n",
       "\n",
       "                                truncated_description  \\\n",
       "4   spacious 1 bedroom 1 bathroom in williamsburg!...   \n",
       "6   brand new gut renovated true 2 bedroomfind you...   \n",
       "9   * * flex 2 bedroom with full pressurized wall ...   \n",
       "10  a brand new 3 bedroom 1. 5 bath apartmentenjoy...   \n",
       "15  over - sized studio w abundant closets. availa...   \n",
       "\n",
       "                                            sentiment  sentiment_label  \n",
       "4   {'label': 'POSITIVE', 'score': 0.8850623965000...                1  \n",
       "6        {'label': 'POSITIVE', 'score': 0.9983743429}                1  \n",
       "9        {'label': 'POSITIVE', 'score': 0.9986716509}                1  \n",
       "10       {'label': 'NEGATIVE', 'score': 0.6298918724}                0  \n",
       "15       {'label': 'NEGATIVE', 'score': 0.9978052974}                0  "
      ]
     },
     "execution_count": 3,
     "metadata": {},
     "output_type": "execute_result"
    }
   ],
   "source": [
    "# import the dataset (this dataset has already remove outlier)\n",
    "df = pd.read_json(\"../data/sentimental_extraction_kaggle.json\")\n",
    "df.head(5)"
   ]
  },
  {
   "cell_type": "code",
   "execution_count": 4,
   "id": "0f09a105",
   "metadata": {},
   "outputs": [
    {
     "name": "stdout",
     "output_type": "stream",
     "text": [
      "There are 48871 samples.\n"
     ]
    }
   ],
   "source": [
    "print(f\"There are {len(df)} samples.\")"
   ]
  },
  {
   "cell_type": "code",
   "execution_count": 5,
   "id": "e20b431f",
   "metadata": {},
   "outputs": [],
   "source": [
    "# # use the first 5 row for test only\n",
    "# df = df.head(5) "
   ]
  },
  {
   "cell_type": "markdown",
   "id": "2f002348",
   "metadata": {},
   "source": [
    "## 2. Feature Extraction"
   ]
  },
  {
   "cell_type": "code",
   "execution_count": 6,
   "id": "35745445",
   "metadata": {},
   "outputs": [
    {
     "name": "stdout",
     "output_type": "stream",
     "text": [
      "['Dining Room', 'Pre-War', 'Laundry in Building', 'Dishwasher', 'Hardwood Floors', 'Dogs Allowed', 'Cats Allowed']\n",
      "['Doorman', 'Elevator', 'Laundry in Building', 'Dishwasher', 'Hardwood Floors', 'No Fee']\n",
      "['Doorman', 'Elevator', 'Laundry in Building', 'Laundry in Unit', 'Dishwasher', 'Hardwood Floors']\n"
     ]
    }
   ],
   "source": [
    "# check the first 3 row's features list\n",
    "print(df.features.iloc[0])\n",
    "print(df.features.iloc[1])\n",
    "print(df.features.iloc[2])"
   ]
  },
  {
   "cell_type": "code",
   "execution_count": 7,
   "id": "20546581",
   "metadata": {},
   "outputs": [],
   "source": [
    "# flatten the list of features from all rows\n",
    "all_features = [feature for sublist in df['features'] for feature in sublist]\n",
    "\n",
    "# count the frequency of each feature\n",
    "feature_counts = Counter(all_features)\n",
    "\n",
    "# filter features that have a frequency above the threshold\n",
    "frequency_threshold = 10000\n",
    "high_freq_features = [feature for feature, count in feature_counts.items() if count >= frequency_threshold]\n",
    "\n",
    "# create binary columns for each high-frequency feature\n",
    "for feature in high_freq_features:\n",
    "    df['feature_' + feature.lower()] = df['features'].apply(lambda x: 1 if feature in x else 0)"
   ]
  },
  {
   "cell_type": "code",
   "execution_count": 8,
   "id": "7f0dbe61",
   "metadata": {},
   "outputs": [
    {
     "name": "stdout",
     "output_type": "stream",
     "text": [
      "The features with most (>= 10k) counts are ['Laundry in Building', 'Dishwasher', 'Hardwood Floors', 'Dogs Allowed', 'Cats Allowed', 'Doorman', 'Elevator', 'No Fee', 'Fitness Center']\n"
     ]
    }
   ],
   "source": [
    "print(f\"The features with most (>= 10k) counts are {high_freq_features}\")"
   ]
  },
  {
   "cell_type": "code",
   "execution_count": 9,
   "id": "146827d3",
   "metadata": {},
   "outputs": [
    {
     "data": {
      "text/html": [
       "<div>\n",
       "<style scoped>\n",
       "    .dataframe tbody tr th:only-of-type {\n",
       "        vertical-align: middle;\n",
       "    }\n",
       "\n",
       "    .dataframe tbody tr th {\n",
       "        vertical-align: top;\n",
       "    }\n",
       "\n",
       "    .dataframe thead th {\n",
       "        text-align: right;\n",
       "    }\n",
       "</style>\n",
       "<table border=\"1\" class=\"dataframe\">\n",
       "  <thead>\n",
       "    <tr style=\"text-align: right;\">\n",
       "      <th></th>\n",
       "      <th>bathrooms</th>\n",
       "      <th>bedrooms</th>\n",
       "      <th>building_id</th>\n",
       "      <th>created</th>\n",
       "      <th>description</th>\n",
       "      <th>display_address</th>\n",
       "      <th>features</th>\n",
       "      <th>latitude</th>\n",
       "      <th>listing_id</th>\n",
       "      <th>longitude</th>\n",
       "      <th>...</th>\n",
       "      <th>sentiment_label</th>\n",
       "      <th>feature_laundry in building</th>\n",
       "      <th>feature_dishwasher</th>\n",
       "      <th>feature_hardwood floors</th>\n",
       "      <th>feature_dogs allowed</th>\n",
       "      <th>feature_cats allowed</th>\n",
       "      <th>feature_doorman</th>\n",
       "      <th>feature_elevator</th>\n",
       "      <th>feature_no fee</th>\n",
       "      <th>feature_fitness center</th>\n",
       "    </tr>\n",
       "  </thead>\n",
       "  <tbody>\n",
       "    <tr>\n",
       "      <th>4</th>\n",
       "      <td>1.0</td>\n",
       "      <td>1</td>\n",
       "      <td>8579a0b0d54db803821a35a4a615e97a</td>\n",
       "      <td>2016-06-16 05:55:27</td>\n",
       "      <td>Spacious 1 Bedroom 1 Bathroom in Williamsburg!...</td>\n",
       "      <td>145 Borinquen Place</td>\n",
       "      <td>[Dining Room, Pre-War, Laundry in Building, Di...</td>\n",
       "      <td>40.7108</td>\n",
       "      <td>7170325</td>\n",
       "      <td>-73.9539</td>\n",
       "      <td>...</td>\n",
       "      <td>1</td>\n",
       "      <td>1</td>\n",
       "      <td>1</td>\n",
       "      <td>1</td>\n",
       "      <td>1</td>\n",
       "      <td>1</td>\n",
       "      <td>0</td>\n",
       "      <td>0</td>\n",
       "      <td>0</td>\n",
       "      <td>0</td>\n",
       "    </tr>\n",
       "    <tr>\n",
       "      <th>6</th>\n",
       "      <td>1.0</td>\n",
       "      <td>2</td>\n",
       "      <td>b8e75fc949a6cd8225b455648a951712</td>\n",
       "      <td>2016-06-01 05:44:33</td>\n",
       "      <td>BRAND NEW GUT RENOVATED TRUE 2 BEDROOMFind you...</td>\n",
       "      <td>East 44th</td>\n",
       "      <td>[Doorman, Elevator, Laundry in Building, Dishw...</td>\n",
       "      <td>40.7513</td>\n",
       "      <td>7092344</td>\n",
       "      <td>-73.9722</td>\n",
       "      <td>...</td>\n",
       "      <td>1</td>\n",
       "      <td>1</td>\n",
       "      <td>1</td>\n",
       "      <td>1</td>\n",
       "      <td>0</td>\n",
       "      <td>0</td>\n",
       "      <td>1</td>\n",
       "      <td>1</td>\n",
       "      <td>1</td>\n",
       "      <td>0</td>\n",
       "    </tr>\n",
       "    <tr>\n",
       "      <th>9</th>\n",
       "      <td>1.0</td>\n",
       "      <td>2</td>\n",
       "      <td>cd759a988b8f23924b5a2058d5ab2b49</td>\n",
       "      <td>2016-06-14 15:19:59</td>\n",
       "      <td>**FLEX 2 BEDROOM WITH FULL PRESSURIZED WALL**L...</td>\n",
       "      <td>East 56th Street</td>\n",
       "      <td>[Doorman, Elevator, Laundry in Building, Laund...</td>\n",
       "      <td>40.7575</td>\n",
       "      <td>7158677</td>\n",
       "      <td>-73.9625</td>\n",
       "      <td>...</td>\n",
       "      <td>1</td>\n",
       "      <td>1</td>\n",
       "      <td>1</td>\n",
       "      <td>1</td>\n",
       "      <td>0</td>\n",
       "      <td>0</td>\n",
       "      <td>1</td>\n",
       "      <td>1</td>\n",
       "      <td>0</td>\n",
       "      <td>0</td>\n",
       "    </tr>\n",
       "    <tr>\n",
       "      <th>10</th>\n",
       "      <td>1.5</td>\n",
       "      <td>3</td>\n",
       "      <td>53a5b119ba8f7b61d4e010512e0dfc85</td>\n",
       "      <td>2016-06-24 07:54:24</td>\n",
       "      <td>A Brand New 3 Bedroom 1.5 bath ApartmentEnjoy ...</td>\n",
       "      <td>Metropolitan Avenue</td>\n",
       "      <td>[]</td>\n",
       "      <td>40.7145</td>\n",
       "      <td>7211212</td>\n",
       "      <td>-73.9425</td>\n",
       "      <td>...</td>\n",
       "      <td>0</td>\n",
       "      <td>0</td>\n",
       "      <td>0</td>\n",
       "      <td>0</td>\n",
       "      <td>0</td>\n",
       "      <td>0</td>\n",
       "      <td>0</td>\n",
       "      <td>0</td>\n",
       "      <td>0</td>\n",
       "      <td>0</td>\n",
       "    </tr>\n",
       "    <tr>\n",
       "      <th>15</th>\n",
       "      <td>1.0</td>\n",
       "      <td>0</td>\n",
       "      <td>bfb9405149bfff42a92980b594c28234</td>\n",
       "      <td>2016-06-28 03:50:23</td>\n",
       "      <td>Over-sized Studio w abundant closets. Availabl...</td>\n",
       "      <td>East 34th Street</td>\n",
       "      <td>[Doorman, Elevator, Fitness Center, Laundry in...</td>\n",
       "      <td>40.7439</td>\n",
       "      <td>7225292</td>\n",
       "      <td>-73.9743</td>\n",
       "      <td>...</td>\n",
       "      <td>0</td>\n",
       "      <td>1</td>\n",
       "      <td>0</td>\n",
       "      <td>0</td>\n",
       "      <td>0</td>\n",
       "      <td>0</td>\n",
       "      <td>1</td>\n",
       "      <td>1</td>\n",
       "      <td>0</td>\n",
       "      <td>1</td>\n",
       "    </tr>\n",
       "  </tbody>\n",
       "</table>\n",
       "<p>5 rows × 28 columns</p>\n",
       "</div>"
      ],
      "text/plain": [
       "    bathrooms  bedrooms                       building_id  \\\n",
       "4         1.0         1  8579a0b0d54db803821a35a4a615e97a   \n",
       "6         1.0         2  b8e75fc949a6cd8225b455648a951712   \n",
       "9         1.0         2  cd759a988b8f23924b5a2058d5ab2b49   \n",
       "10        1.5         3  53a5b119ba8f7b61d4e010512e0dfc85   \n",
       "15        1.0         0  bfb9405149bfff42a92980b594c28234   \n",
       "\n",
       "                created                                        description  \\\n",
       "4   2016-06-16 05:55:27  Spacious 1 Bedroom 1 Bathroom in Williamsburg!...   \n",
       "6   2016-06-01 05:44:33  BRAND NEW GUT RENOVATED TRUE 2 BEDROOMFind you...   \n",
       "9   2016-06-14 15:19:59  **FLEX 2 BEDROOM WITH FULL PRESSURIZED WALL**L...   \n",
       "10  2016-06-24 07:54:24  A Brand New 3 Bedroom 1.5 bath ApartmentEnjoy ...   \n",
       "15  2016-06-28 03:50:23  Over-sized Studio w abundant closets. Availabl...   \n",
       "\n",
       "        display_address                                           features  \\\n",
       "4   145 Borinquen Place  [Dining Room, Pre-War, Laundry in Building, Di...   \n",
       "6             East 44th  [Doorman, Elevator, Laundry in Building, Dishw...   \n",
       "9      East 56th Street  [Doorman, Elevator, Laundry in Building, Laund...   \n",
       "10  Metropolitan Avenue                                                 []   \n",
       "15     East 34th Street  [Doorman, Elevator, Fitness Center, Laundry in...   \n",
       "\n",
       "    latitude  listing_id  longitude  ... sentiment_label  \\\n",
       "4    40.7108     7170325   -73.9539  ...               1   \n",
       "6    40.7513     7092344   -73.9722  ...               1   \n",
       "9    40.7575     7158677   -73.9625  ...               1   \n",
       "10   40.7145     7211212   -73.9425  ...               0   \n",
       "15   40.7439     7225292   -73.9743  ...               0   \n",
       "\n",
       "   feature_laundry in building  feature_dishwasher feature_hardwood floors  \\\n",
       "4                            1                   1                       1   \n",
       "6                            1                   1                       1   \n",
       "9                            1                   1                       1   \n",
       "10                           0                   0                       0   \n",
       "15                           1                   0                       0   \n",
       "\n",
       "   feature_dogs allowed feature_cats allowed feature_doorman feature_elevator  \\\n",
       "4                     1                    1               0                0   \n",
       "6                     0                    0               1                1   \n",
       "9                     0                    0               1                1   \n",
       "10                    0                    0               0                0   \n",
       "15                    0                    0               1                1   \n",
       "\n",
       "    feature_no fee  feature_fitness center  \n",
       "4                0                       0  \n",
       "6                1                       0  \n",
       "9                0                       0  \n",
       "10               0                       0  \n",
       "15               0                       1  \n",
       "\n",
       "[5 rows x 28 columns]"
      ]
     },
     "execution_count": 9,
     "metadata": {},
     "output_type": "execute_result"
    }
   ],
   "source": [
    "# view the cleaned dataset with extracted features\n",
    "df.head(5)"
   ]
  },
  {
   "cell_type": "markdown",
   "id": "8fda902b",
   "metadata": {},
   "source": [
    "## 3. Dataset Clean Up"
   ]
  },
  {
   "cell_type": "code",
   "execution_count": 10,
   "id": "8ead9821",
   "metadata": {},
   "outputs": [],
   "source": [
    "# convert target interest_level from categorical to numerical\n",
    "interest_level_mapping = {'high': 1, 'medium': 0, 'low': -1}\n",
    "df['interest_level'] = df['interest_level'].map(interest_level_mapping)"
   ]
  },
  {
   "cell_type": "code",
   "execution_count": 11,
   "id": "71e7ba24",
   "metadata": {},
   "outputs": [],
   "source": [
    "# extract numerical features\n",
    "final_df = df[['bathrooms', 'bedrooms', 'price', 'sentiment_label', 'feature_laundry in building', \n",
    "               'feature_dishwasher', 'feature_hardwood floors', 'feature_dogs allowed',\n",
    "               'feature_cats allowed', 'feature_doorman', 'feature_elevator',\n",
    "               'feature_no fee', 'feature_fitness center', 'interest_level']]"
   ]
  },
  {
   "cell_type": "code",
   "execution_count": 12,
   "id": "d5834384",
   "metadata": {},
   "outputs": [
    {
     "data": {
      "text/html": [
       "<div>\n",
       "<style scoped>\n",
       "    .dataframe tbody tr th:only-of-type {\n",
       "        vertical-align: middle;\n",
       "    }\n",
       "\n",
       "    .dataframe tbody tr th {\n",
       "        vertical-align: top;\n",
       "    }\n",
       "\n",
       "    .dataframe thead th {\n",
       "        text-align: right;\n",
       "    }\n",
       "</style>\n",
       "<table border=\"1\" class=\"dataframe\">\n",
       "  <thead>\n",
       "    <tr style=\"text-align: right;\">\n",
       "      <th></th>\n",
       "      <th>bathrooms</th>\n",
       "      <th>bedrooms</th>\n",
       "      <th>price</th>\n",
       "      <th>sentiment_label</th>\n",
       "      <th>feature_laundry in building</th>\n",
       "      <th>feature_dishwasher</th>\n",
       "      <th>feature_hardwood floors</th>\n",
       "      <th>feature_dogs allowed</th>\n",
       "      <th>feature_cats allowed</th>\n",
       "      <th>feature_doorman</th>\n",
       "      <th>feature_elevator</th>\n",
       "      <th>feature_no fee</th>\n",
       "      <th>feature_fitness center</th>\n",
       "      <th>interest_level</th>\n",
       "    </tr>\n",
       "  </thead>\n",
       "  <tbody>\n",
       "    <tr>\n",
       "      <th>4</th>\n",
       "      <td>1.0</td>\n",
       "      <td>1</td>\n",
       "      <td>2400</td>\n",
       "      <td>1</td>\n",
       "      <td>1</td>\n",
       "      <td>1</td>\n",
       "      <td>1</td>\n",
       "      <td>1</td>\n",
       "      <td>1</td>\n",
       "      <td>0</td>\n",
       "      <td>0</td>\n",
       "      <td>0</td>\n",
       "      <td>0</td>\n",
       "      <td>0</td>\n",
       "    </tr>\n",
       "    <tr>\n",
       "      <th>6</th>\n",
       "      <td>1.0</td>\n",
       "      <td>2</td>\n",
       "      <td>3800</td>\n",
       "      <td>1</td>\n",
       "      <td>1</td>\n",
       "      <td>1</td>\n",
       "      <td>1</td>\n",
       "      <td>0</td>\n",
       "      <td>0</td>\n",
       "      <td>1</td>\n",
       "      <td>1</td>\n",
       "      <td>1</td>\n",
       "      <td>0</td>\n",
       "      <td>-1</td>\n",
       "    </tr>\n",
       "    <tr>\n",
       "      <th>9</th>\n",
       "      <td>1.0</td>\n",
       "      <td>2</td>\n",
       "      <td>3495</td>\n",
       "      <td>1</td>\n",
       "      <td>1</td>\n",
       "      <td>1</td>\n",
       "      <td>1</td>\n",
       "      <td>0</td>\n",
       "      <td>0</td>\n",
       "      <td>1</td>\n",
       "      <td>1</td>\n",
       "      <td>0</td>\n",
       "      <td>0</td>\n",
       "      <td>0</td>\n",
       "    </tr>\n",
       "    <tr>\n",
       "      <th>10</th>\n",
       "      <td>1.5</td>\n",
       "      <td>3</td>\n",
       "      <td>3000</td>\n",
       "      <td>0</td>\n",
       "      <td>0</td>\n",
       "      <td>0</td>\n",
       "      <td>0</td>\n",
       "      <td>0</td>\n",
       "      <td>0</td>\n",
       "      <td>0</td>\n",
       "      <td>0</td>\n",
       "      <td>0</td>\n",
       "      <td>0</td>\n",
       "      <td>0</td>\n",
       "    </tr>\n",
       "    <tr>\n",
       "      <th>15</th>\n",
       "      <td>1.0</td>\n",
       "      <td>0</td>\n",
       "      <td>2795</td>\n",
       "      <td>0</td>\n",
       "      <td>1</td>\n",
       "      <td>0</td>\n",
       "      <td>0</td>\n",
       "      <td>0</td>\n",
       "      <td>0</td>\n",
       "      <td>1</td>\n",
       "      <td>1</td>\n",
       "      <td>0</td>\n",
       "      <td>1</td>\n",
       "      <td>-1</td>\n",
       "    </tr>\n",
       "  </tbody>\n",
       "</table>\n",
       "</div>"
      ],
      "text/plain": [
       "    bathrooms  bedrooms  price  sentiment_label  feature_laundry in building  \\\n",
       "4         1.0         1   2400                1                            1   \n",
       "6         1.0         2   3800                1                            1   \n",
       "9         1.0         2   3495                1                            1   \n",
       "10        1.5         3   3000                0                            0   \n",
       "15        1.0         0   2795                0                            1   \n",
       "\n",
       "    feature_dishwasher  feature_hardwood floors  feature_dogs allowed  \\\n",
       "4                    1                        1                     1   \n",
       "6                    1                        1                     0   \n",
       "9                    1                        1                     0   \n",
       "10                   0                        0                     0   \n",
       "15                   0                        0                     0   \n",
       "\n",
       "    feature_cats allowed  feature_doorman  feature_elevator  feature_no fee  \\\n",
       "4                      1                0                 0               0   \n",
       "6                      0                1                 1               1   \n",
       "9                      0                1                 1               0   \n",
       "10                     0                0                 0               0   \n",
       "15                     0                1                 1               0   \n",
       "\n",
       "    feature_fitness center  interest_level  \n",
       "4                        0               0  \n",
       "6                        0              -1  \n",
       "9                        0               0  \n",
       "10                       0               0  \n",
       "15                       1              -1  "
      ]
     },
     "execution_count": 12,
     "metadata": {},
     "output_type": "execute_result"
    }
   ],
   "source": [
    "# check the dataset\n",
    "final_df.head(5)"
   ]
  },
  {
   "cell_type": "markdown",
   "id": "0f662cc7",
   "metadata": {},
   "source": [
    "## 4. PCA"
   ]
  },
  {
   "cell_type": "code",
   "execution_count": 13,
   "id": "11748a15",
   "metadata": {},
   "outputs": [],
   "source": [
    "# standardize the dataset\n",
    "scaler = StandardScaler()\n",
    "df_standardized = scaler.fit_transform(final_df)"
   ]
  },
  {
   "cell_type": "code",
   "execution_count": 14,
   "id": "f1774761",
   "metadata": {},
   "outputs": [
    {
     "name": "stdout",
     "output_type": "stream",
     "text": [
      "Number of features to be removed: 3\n",
      "Explained Variance Ratio of Original Feature Space: [0.25749911 0.15369763 0.13754026 0.0919201  0.06858645 0.06417945\n",
      " 0.05181544 0.03784745 0.03496864 0.03110574 0.02425915 0.02314235\n",
      " 0.01896561 0.00447262]\n",
      "Explained Variance Ratio of Reduced Feature Space: [0.25749911 0.15369763 0.13754026 0.0919201  0.06858645 0.06417945\n",
      " 0.05181544 0.03784745 0.03496864 0.03110574 0.02425915]\n"
     ]
    }
   ],
   "source": [
    "# perform PCA without limiting the number of components to preserve all the variance\n",
    "pca = PCA()\n",
    "pca.fit(df_standardized)\n",
    "\n",
    "# find the number of components required to explain at least 95% variance\n",
    "cumulative_variance = np.cumsum(pca.explained_variance_ratio_)\n",
    "num_components = np.argmax(cumulative_variance >= 0.95) + 1  # Adding 1 because of 0-based indexing\n",
    "\n",
    "# number of features to be removed\n",
    "num_features_removed = df_standardized.shape[1] - num_components\n",
    "\n",
    "# perform PCA again, this time with the desired number of components\n",
    "pca_reduced = PCA(n_components=num_components)\n",
    "pca_reduced.fit(df_standardized)\n",
    "\n",
    "print(f\"Number of features to be removed: {num_features_removed}\")\n",
    "print(\"Explained Variance Ratio of Original Feature Space:\", pca.explained_variance_ratio_)\n",
    "print(\"Explained Variance Ratio of Reduced Feature Space:\", pca_reduced.explained_variance_ratio_)"
   ]
  },
  {
   "cell_type": "markdown",
   "id": "d7687d2e",
   "metadata": {},
   "source": [
    "**Note**: From the results, we get the % as the variance of the data. This means that with the first 11 features (principal components), we will capture 95.75% of the data variance. Thus, we don't sacrifice much when remove the last 3 features."
   ]
  },
  {
   "cell_type": "code",
   "execution_count": 15,
   "id": "9543a806",
   "metadata": {},
   "outputs": [
    {
     "data": {
      "image/png": "[encoded data removed]",
      "text/plain": [
       "<Figure size 720x504 with 1 Axes>"
      ]
     },
     "metadata": {
      "needs_background": "light"
     },
     "output_type": "display_data"
    }
   ],
   "source": [
    "# calculate the cumulative explained variance\n",
    "cumulative_variance = np.cumsum(pca.explained_variance_ratio_)\n",
    "\n",
    "# plotting the cumulative explained variance\n",
    "plt.figure(figsize=(10, 7))\n",
    "plt.plot(range(1, len(cumulative_variance) + 1), cumulative_variance, marker='o', linestyle='--')\n",
    "plt.xlabel('Number of Components')\n",
    "plt.ylabel('Cumulative Explained Variance (%)')\n",
    "plt.title('Cumulative Explained Variance vs. Number of Components')\n",
    "\n",
    "# drawing the vertical and horizontal dashed lines for 95% variance\n",
    "optimum_components = np.argmax(cumulative_variance >= 0.95) + 1\n",
    "plt.axvline(x=optimum_components, color='black', linestyle='--', label=f'Optimum Components = {optimum_components}')\n",
    "plt.axhline(y=0.95, color='red', linestyle='--', label='95% Variance')\n",
    "\n",
    "plt.legend()\n",
    "plt.grid(True)\n",
    "plt.show()"
   ]
  },
  {
   "cell_type": "markdown",
   "id": "9298c06c",
   "metadata": {},
   "source": [
    "## 5. Normality Test"
   ]
  },
  {
   "cell_type": "markdown",
   "id": "9bdb784c",
   "metadata": {},
   "source": [
    "### K-S Normality Test"
   ]
  },
  {
   "cell_type": "code",
   "execution_count": 16,
   "id": "9222140b",
   "metadata": {},
   "outputs": [
    {
     "name": "stdout",
     "output_type": "stream",
     "text": [
      "K-S test: statistics=0.20 p-value=0.00\n",
      "K-S test: Number of bedrooms looks not normal with 99% accuracy\n",
      "K-S test: statistics=0.48 p-value=0.00\n",
      "K-S test: Number of bathrooms looks not normal with 99% accuracy\n"
     ]
    }
   ],
   "source": [
    "# perform K-S test for normality on bedrooms\n",
    "ks_statistic_bedrooms, ks_pvalue_bedrooms = st.kstest(final_df['bedrooms'], 'norm', args=(final_df['bedrooms'].mean(), final_df['bedrooms'].std()))\n",
    "\n",
    "# perform K-S test for normality on bathrooms\n",
    "ks_statistic_bathrooms, ks_pvalue_bathrooms = st.kstest(final_df['bathrooms'], 'norm', args=(final_df['bathrooms'].mean(), final_df['bathrooms'].std()))\n",
    "\n",
    "print(f\"K-S test: statistics={ks_statistic_bedrooms:.2f} p-value={ks_pvalue_bedrooms:.2f}\")\n",
    "print(f\"K-S test: Number of bedrooms looks {'normal' if ks_pvalue_bedrooms > 0.01 else 'not normal'} with 99% accuracy\")\n",
    "print(f\"K-S test: statistics={ks_statistic_bathrooms:.2f} p-value={ks_pvalue_bathrooms:.2f}\")\n",
    "print(f\"K-S test: Number of bathrooms looks {'normal' if ks_pvalue_bathrooms > 0.01 else 'not normal'} with 99% accuracy\")"
   ]
  },
  {
   "cell_type": "markdown",
   "id": "78693541",
   "metadata": {},
   "source": [
    "The K-S test results indicate that both features does not follow the Gaussian distribution as the statistics are 0.2 and 0.48 respectively with p-values are 0, which is less than the expected 0.05 found in Gaussian-distributed dataset."
   ]
  },
  {
   "cell_type": "markdown",
   "id": "7720ba1e",
   "metadata": {},
   "source": [
    "### Shapiro-Wilk Normality Test"
   ]
  },
  {
   "cell_type": "code",
   "execution_count": 17,
   "id": "68cad8e2",
   "metadata": {},
   "outputs": [
    {
     "name": "stdout",
     "output_type": "stream",
     "text": [
      "Shapiro-Wilk test: statistics=0.90 p-value=0.00\n",
      "Shapiro-Wilk test: Number of bedrooms looks not normal with 99% accuracy\n",
      "Shapiro-Wilk test: statistics=0.52 p-value=0.00\n",
      "Shapiro-Wilk test: Number of bathrooms looks not normal with 99% accuracy\n"
     ]
    }
   ],
   "source": [
    "# perform Shapiro-Wilk test for normality on bedrooms\n",
    "shapiro_statistic_bedrooms, shapiro_pvalue_bedrooms = st.shapiro(final_df['bedrooms'])\n",
    "\n",
    "# perform Shapiro-Wilk test for normality on bathrooms\n",
    "shapiro_statistic_bathrooms, shapiro_pvalue_bathrooms = st.shapiro(final_df['bathrooms'])\n",
    "\n",
    "print(f\"Shapiro-Wilk test: statistics={shapiro_statistic_bedrooms:.2f} p-value={shapiro_pvalue_bedrooms:.2f}\")\n",
    "print(f\"Shapiro-Wilk test: Number of bedrooms looks {'normal' if shapiro_pvalue_bedrooms > 0.01 else 'not normal'} with 99% accuracy\")\n",
    "print(f\"Shapiro-Wilk test: statistics={shapiro_statistic_bathrooms:.2f} p-value={shapiro_pvalue_bathrooms:.2f}\")\n",
    "print(f\"Shapiro-Wilk test: Number of bathrooms looks {'normal' if shapiro_pvalue_bathrooms > 0.01 else 'not normal'} with 99% accuracy\")"
   ]
  },
  {
   "attachments": {},
   "cell_type": "markdown",
   "id": "83eb40d5",
   "metadata": {},
   "source": [
    "The Shapiro-Wilk test results indicate that both features does not follow the Gaussian distribution as the statistics are 0.9 and 0.52 respectively with p-values are 0, which is less than the expected 0.05 found in Gaussian-distributed dataset."
   ]
  },
  {
   "cell_type": "markdown",
   "id": "4ef232da",
   "metadata": {},
   "source": [
    "### D'Agostino's 𝐾^2 Normality Test"
   ]
  },
  {
   "cell_type": "code",
   "execution_count": 18,
   "id": "e989f3f6",
   "metadata": {},
   "outputs": [
    {
     "name": "stdout",
     "output_type": "stream",
     "text": [
      "D'Agostino's K^2 test: statistics=1497.85 p-value=0.00\n",
      "D'Agostino's K^2 test: Number of bedrooms looks not normal with 99% accuracy\n",
      "D'Agostino's K^2 test: statistics=23495.67 p-value=0.00\n",
      "D'Agostino's K^2 test: Number of bathrooms looks not normal with 99% accuracy\n"
     ]
    }
   ],
   "source": [
    "# perform DA test for normality on bedrooms\n",
    "da_statistic_bedrooms, da_pvalue_bedrooms = st.normaltest(final_df['bedrooms'])\n",
    "\n",
    "# perform DA test for normality on bathrooms\n",
    "da_statistic_bathrooms, da_pvalue_bathrooms = st.normaltest(final_df['bathrooms'])\n",
    "\n",
    "print(f\"D'Agostino's K^2 test: statistics={da_statistic_bedrooms:.2f} p-value={da_pvalue_bedrooms:.2f}\")\n",
    "print(f\"D'Agostino's K^2 test: Number of bedrooms looks {'normal' if da_pvalue_bedrooms > 0.01 else 'not normal'} with 99% accuracy\")\n",
    "print(f\"D'Agostino's K^2 test: statistics={da_statistic_bathrooms:.2f} p-value={da_pvalue_bathrooms:.2f}\")\n",
    "print(f\"D'Agostino's K^2 test: Number of bathrooms looks {'normal' if da_pvalue_bathrooms > 0.01 else 'not normal'} with 99% accuracy\")"
   ]
  },
  {
   "cell_type": "markdown",
   "id": "8656489c",
   "metadata": {},
   "source": [
    "The D'Agostino's K^2 test results indicate that both features does not follow the Gaussian distribution as the statistics are 1497.5 and 23495.67 respectively with p-values are 0, which is less than the expected 0.05 found in Gaussian-distributed dataset."
   ]
  }
 ],
 "metadata": {
  "kernelspec": {
   "display_name": "Python 3 (ipykernel)",
   "language": "python",
   "name": "python3"
  },
  "language_info": {
   "codemirror_mode": {
    "name": "ipython",
    "version": 3
   },
   "file_extension": ".py",
   "mimetype": "text/x-python",
   "name": "python",
   "nbconvert_exporter": "python",
   "pygments_lexer": "ipython3",
   "version": "3.9.7"
  }
 },
 "nbformat": 4,
 "nbformat_minor": 5
}
