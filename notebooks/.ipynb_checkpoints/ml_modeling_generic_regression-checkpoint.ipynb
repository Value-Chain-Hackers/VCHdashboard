{
 "cells": [
  {
   "cell_type": "markdown",
   "id": "85431df1",
   "metadata": {},
   "source": [
    "# Machine Learning Modeling\n",
    "- Name: Minh T. Nguyen\n",
    "- Date: 11/24/2023\n",
    "- About:\n",
    "    - Renting price prediction with classical ML model on the dataset (without image feature extraction)\n",
    "    - For the sake of simplicity, we will only split the dataset into train/test. No need for grid-search, validation set, or k-fold validation for this project. For model comparison, we will only check for test accuracy for simplicity.\n",
    "    - Models to consider:\n",
    "        - KNN\n",
    "        - Neural Networks\n",
    "        - SVM\n",
    "        - Decision Tree\n",
    "        - Random Forests"
   ]
  },
  {
   "cell_type": "code",
   "execution_count": 1,
   "id": "defaaf0f",
   "metadata": {},
   "outputs": [
    {
     "name": "stdout",
     "output_type": "stream",
     "text": [
      "final_dataset_image.json     sentimental_extraction_kaggle.csv\r\n",
      "final_dataset_no_image.json  sentimental_extraction_kaggle.json\r\n",
      "images_sample\t\t     sentimental_extraction_sample.csv\r\n",
      "Kaggle-renthop.torrent\t     train.json\r\n"
     ]
    }
   ],
   "source": [
    "!ls ../data"
   ]
  },
  {
   "cell_type": "markdown",
   "id": "fd4ae869",
   "metadata": {},
   "source": [
    "**Note:** The datasets can be found [here]((https://www.kaggle.com/competitions/two-sigma-connect-rental-listing-inquiries/data?select=train.json.zip)).\n",
    "- train.json: the training set.\n",
    "- images_sample.zip: listing images organized by listing_id (a sample of 100 listings)\n",
    "- Kaggle-renthop.7z: listing images organized by listing_id. Total size: 78.5 GB compressed."
   ]
  },
  {
   "cell_type": "code",
   "execution_count": 2,
   "id": "62b53f5e",
   "metadata": {},
   "outputs": [
    {
     "name": "stderr",
     "output_type": "stream",
     "text": [
      "/home/mnguyen0226/anaconda3/lib/python3.9/site-packages/pandas/core/computation/expressions.py:21: UserWarning: Pandas requires version '2.8.0' or newer of 'numexpr' (version '2.7.3' currently installed).\n",
      "  from pandas.core.computation.check import NUMEXPR_INSTALLED\n",
      "/home/mnguyen0226/anaconda3/lib/python3.9/site-packages/pandas/core/arrays/masked.py:62: UserWarning: Pandas requires version '1.3.4' or newer of 'bottleneck' (version '1.3.2' currently installed).\n",
      "  from pandas.core import (\n"
     ]
    }
   ],
   "source": [
    "# import libraries\n",
    "import numpy as np\n",
    "import pandas as pd\n",
    "from collections import Counter\n",
    "import re\n",
    "import os\n",
    "import joblib\n",
    "\n",
    "# sklearn imports\n",
    "from sklearn.model_selection import train_test_split\n",
    "from sklearn.preprocessing import StandardScaler\n",
    "from sklearn.neighbors import KNeighborsRegressor\n",
    "from sklearn.tree import DecisionTreeRegressor\n",
    "from sklearn.neural_network import MLPRegressor\n",
    "from sklearn.ensemble import RandomForestRegressor\n",
    "from sklearn.svm import SVR\n",
    "from sklearn.metrics import mean_squared_error\n",
    "\n",
    "import warnings\n",
    "warnings.filterwarnings('ignore')"
   ]
  },
  {
   "cell_type": "markdown",
   "id": "d988bae8",
   "metadata": {},
   "source": [
    "## 1. Import dataset"
   ]
  },
  {
   "cell_type": "code",
   "execution_count": 3,
   "id": "f7624d4d",
   "metadata": {},
   "outputs": [
    {
     "data": {
      "text/html": [
       "<div>\n",
       "<style scoped>\n",
       "    .dataframe tbody tr th:only-of-type {\n",
       "        vertical-align: middle;\n",
       "    }\n",
       "\n",
       "    .dataframe tbody tr th {\n",
       "        vertical-align: top;\n",
       "    }\n",
       "\n",
       "    .dataframe thead th {\n",
       "        text-align: right;\n",
       "    }\n",
       "</style>\n",
       "<table border=\"1\" class=\"dataframe\">\n",
       "  <thead>\n",
       "    <tr style=\"text-align: right;\">\n",
       "      <th></th>\n",
       "      <th>bathrooms</th>\n",
       "      <th>bedrooms</th>\n",
       "      <th>price</th>\n",
       "      <th>sentiment_label</th>\n",
       "      <th>feature_laundry in building</th>\n",
       "      <th>feature_dishwasher</th>\n",
       "      <th>feature_hardwood floors</th>\n",
       "      <th>feature_dogs allowed</th>\n",
       "      <th>feature_cats allowed</th>\n",
       "      <th>feature_doorman</th>\n",
       "      <th>feature_elevator</th>\n",
       "      <th>feature_no fee</th>\n",
       "      <th>feature_fitness center</th>\n",
       "      <th>interest_level</th>\n",
       "    </tr>\n",
       "  </thead>\n",
       "  <tbody>\n",
       "    <tr>\n",
       "      <th>4</th>\n",
       "      <td>1.0</td>\n",
       "      <td>1</td>\n",
       "      <td>2400</td>\n",
       "      <td>1</td>\n",
       "      <td>1</td>\n",
       "      <td>1</td>\n",
       "      <td>1</td>\n",
       "      <td>1</td>\n",
       "      <td>1</td>\n",
       "      <td>0</td>\n",
       "      <td>0</td>\n",
       "      <td>0</td>\n",
       "      <td>0</td>\n",
       "      <td>0</td>\n",
       "    </tr>\n",
       "    <tr>\n",
       "      <th>6</th>\n",
       "      <td>1.0</td>\n",
       "      <td>2</td>\n",
       "      <td>3800</td>\n",
       "      <td>1</td>\n",
       "      <td>1</td>\n",
       "      <td>1</td>\n",
       "      <td>1</td>\n",
       "      <td>0</td>\n",
       "      <td>0</td>\n",
       "      <td>1</td>\n",
       "      <td>1</td>\n",
       "      <td>1</td>\n",
       "      <td>0</td>\n",
       "      <td>-1</td>\n",
       "    </tr>\n",
       "    <tr>\n",
       "      <th>9</th>\n",
       "      <td>1.0</td>\n",
       "      <td>2</td>\n",
       "      <td>3495</td>\n",
       "      <td>1</td>\n",
       "      <td>1</td>\n",
       "      <td>1</td>\n",
       "      <td>1</td>\n",
       "      <td>0</td>\n",
       "      <td>0</td>\n",
       "      <td>1</td>\n",
       "      <td>1</td>\n",
       "      <td>0</td>\n",
       "      <td>0</td>\n",
       "      <td>0</td>\n",
       "    </tr>\n",
       "    <tr>\n",
       "      <th>10</th>\n",
       "      <td>1.5</td>\n",
       "      <td>3</td>\n",
       "      <td>3000</td>\n",
       "      <td>0</td>\n",
       "      <td>0</td>\n",
       "      <td>0</td>\n",
       "      <td>0</td>\n",
       "      <td>0</td>\n",
       "      <td>0</td>\n",
       "      <td>0</td>\n",
       "      <td>0</td>\n",
       "      <td>0</td>\n",
       "      <td>0</td>\n",
       "      <td>0</td>\n",
       "    </tr>\n",
       "    <tr>\n",
       "      <th>15</th>\n",
       "      <td>1.0</td>\n",
       "      <td>0</td>\n",
       "      <td>2795</td>\n",
       "      <td>0</td>\n",
       "      <td>1</td>\n",
       "      <td>0</td>\n",
       "      <td>0</td>\n",
       "      <td>0</td>\n",
       "      <td>0</td>\n",
       "      <td>1</td>\n",
       "      <td>1</td>\n",
       "      <td>0</td>\n",
       "      <td>1</td>\n",
       "      <td>-1</td>\n",
       "    </tr>\n",
       "  </tbody>\n",
       "</table>\n",
       "</div>"
      ],
      "text/plain": [
       "    bathrooms  bedrooms  price  sentiment_label  feature_laundry in building  \\\n",
       "4         1.0         1   2400                1                            1   \n",
       "6         1.0         2   3800                1                            1   \n",
       "9         1.0         2   3495                1                            1   \n",
       "10        1.5         3   3000                0                            0   \n",
       "15        1.0         0   2795                0                            1   \n",
       "\n",
       "    feature_dishwasher  feature_hardwood floors  feature_dogs allowed  \\\n",
       "4                    1                        1                     1   \n",
       "6                    1                        1                     0   \n",
       "9                    1                        1                     0   \n",
       "10                   0                        0                     0   \n",
       "15                   0                        0                     0   \n",
       "\n",
       "    feature_cats allowed  feature_doorman  feature_elevator  feature_no fee  \\\n",
       "4                      1                0                 0               0   \n",
       "6                      0                1                 1               1   \n",
       "9                      0                1                 1               0   \n",
       "10                     0                0                 0               0   \n",
       "15                     0                1                 1               0   \n",
       "\n",
       "    feature_fitness center  interest_level  \n",
       "4                        0               0  \n",
       "6                        0              -1  \n",
       "9                        0               0  \n",
       "10                       0               0  \n",
       "15                       1              -1  "
      ]
     },
     "execution_count": 3,
     "metadata": {},
     "output_type": "execute_result"
    }
   ],
   "source": [
    "# import the dataset (this dataset has already remove outlier)\n",
    "df = pd.read_json(\"../data/final_dataset_no_image.json\")\n",
    "df.head(5)"
   ]
  },
  {
   "cell_type": "code",
   "execution_count": 4,
   "id": "d30ffd3c",
   "metadata": {},
   "outputs": [
    {
     "name": "stdout",
     "output_type": "stream",
     "text": [
      "There are 48871 samples.\n"
     ]
    }
   ],
   "source": [
    "print(f\"There are {len(df)} samples.\")"
   ]
  },
  {
   "cell_type": "markdown",
   "id": "354c84fd",
   "metadata": {},
   "source": [
    "## 2. Data Processing"
   ]
  },
  {
   "cell_type": "code",
   "execution_count": 5,
   "id": "601b7039",
   "metadata": {},
   "outputs": [],
   "source": [
    "df = df.drop('interest_level', axis=1)"
   ]
  },
  {
   "cell_type": "code",
   "execution_count": 6,
   "id": "23f4aec1",
   "metadata": {},
   "outputs": [],
   "source": [
    "# split dataset into training set and test set\n",
    "X = df.drop('price', axis=1)\n",
    "y = df['price'] \n",
    "X_train, X_test, y_train, y_test = train_test_split(X, y, test_size=0.15, random_state=1)  # 85% training and 15% test"
   ]
  },
  {
   "cell_type": "code",
   "execution_count": 7,
   "id": "28e00929",
   "metadata": {},
   "outputs": [],
   "source": [
    "# # feature scaling\n",
    "# scaler = StandardScaler()\n",
    "# X_train = scaler.fit_transform(X_train)\n",
    "# X_test = scaler.transform(X_test)"
   ]
  },
  {
   "cell_type": "markdown",
   "id": "1940f0c9",
   "metadata": {},
   "source": [
    "## 3. KNN"
   ]
  },
  {
   "cell_type": "code",
   "execution_count": 8,
   "id": "8a26363d",
   "metadata": {},
   "outputs": [
    {
     "name": "stdout",
     "output_type": "stream",
     "text": [
      "RMSE: 1054.5908748987563\n"
     ]
    }
   ],
   "source": [
    "# create KNN classifier\n",
    "knn = KNeighborsRegressor(n_neighbors=5)\n",
    "\n",
    "# train the classifier\n",
    "knn.fit(X_train, y_train)\n",
    "\n",
    "# predict the response for test dataset\n",
    "y_pred = knn.predict(X_test)\n",
    "\n",
    "# evaluate performance\n",
    "mse = mean_squared_error(y_test, y_pred)\n",
    "rmse = mse ** 0.5\n",
    "print(f'RMSE: {rmse}')"
   ]
  },
  {
   "cell_type": "code",
   "execution_count": 9,
   "id": "dbfdaf6b",
   "metadata": {},
   "outputs": [
    {
     "data": {
      "text/plain": [
       "['models/knn_model_generic_reg.pkl']"
      ]
     },
     "execution_count": 9,
     "metadata": {},
     "output_type": "execute_result"
    }
   ],
   "source": [
    "# save model\n",
    "joblib.dump(knn, 'models/knn_model_generic_reg.pkl')"
   ]
  },
  {
   "cell_type": "code",
   "execution_count": 10,
   "id": "c2b1d5ee",
   "metadata": {},
   "outputs": [
    {
     "name": "stdout",
     "output_type": "stream",
     "text": [
      "RMSE: 1054.5908748987563\n",
      "Actual first price: 3050, Predicted first price: 3150.0\n"
     ]
    }
   ],
   "source": [
    "# quick test\n",
    "knn_loaded = joblib.load('models/knn_model_generic_reg.pkl')\n",
    "y_pred = knn_loaded.predict(X_test)\n",
    "mse = mean_squared_error(y_test, y_pred)\n",
    "rmse = mse ** 0.5\n",
    "print(f'RMSE: {rmse}')\n",
    "actual_first_price = y_test.iloc[0]\n",
    "print(f'Actual first price: {actual_first_price}, Predicted first price: {y_pred[0]}')"
   ]
  },
  {
   "cell_type": "markdown",
   "id": "44090795",
   "metadata": {},
   "source": [
    "## 4. Decision Trees"
   ]
  },
  {
   "cell_type": "code",
   "execution_count": 11,
   "id": "18411eee",
   "metadata": {},
   "outputs": [
    {
     "name": "stdout",
     "output_type": "stream",
     "text": [
      "RMSE: 990.0443875632601\n"
     ]
    }
   ],
   "source": [
    "# create Decision Tree classifier\n",
    "dt = DecisionTreeRegressor()\n",
    "\n",
    "# train the classifier\n",
    "dt.fit(X_train, y_train)\n",
    "\n",
    "# predict the response for test dataset\n",
    "y_pred = dt.predict(X_test)\n",
    "\n",
    "# evaluate performance\n",
    "mse = mean_squared_error(y_test, y_pred)\n",
    "rmse = mse ** 0.5\n",
    "print(f'RMSE: {rmse}')"
   ]
  },
  {
   "cell_type": "code",
   "execution_count": 12,
   "id": "a51959e7",
   "metadata": {},
   "outputs": [
    {
     "data": {
      "text/plain": [
       "['models/dt_model_generic_reg.pkl']"
      ]
     },
     "execution_count": 12,
     "metadata": {},
     "output_type": "execute_result"
    }
   ],
   "source": [
    "# save model\n",
    "joblib.dump(dt, 'models/dt_model_generic_reg.pkl')"
   ]
  },
  {
   "cell_type": "code",
   "execution_count": 13,
   "id": "f101455d",
   "metadata": {},
   "outputs": [
    {
     "name": "stdout",
     "output_type": "stream",
     "text": [
      "RMSE: 990.0443875632601\n",
      "Actual first price: 3050, Predicted first price: 3150.0\n"
     ]
    }
   ],
   "source": [
    "# quick test\n",
    "dt_loaded = joblib.load('models/dt_model_generic_reg.pkl')\n",
    "y_pred = dt_loaded.predict(X_test)\n",
    "mse = mean_squared_error(y_test, y_pred)\n",
    "rmse = mse ** 0.5\n",
    "print(f'RMSE: {rmse}')\n",
    "actual_first_price = y_test.iloc[0]\n",
    "print(f'Actual first price: {actual_first_price}, Predicted first price: {y_pred[0]}')"
   ]
  },
  {
   "cell_type": "markdown",
   "id": "04a01be4",
   "metadata": {},
   "source": [
    "## 5. SVM"
   ]
  },
  {
   "cell_type": "code",
   "execution_count": 14,
   "id": "eebecf1f",
   "metadata": {},
   "outputs": [
    {
     "name": "stdout",
     "output_type": "stream",
     "text": [
      "RMSE: 1276.7165343786091\n"
     ]
    }
   ],
   "source": [
    "# create SVM classifier\n",
    "svm = SVR()\n",
    "\n",
    "# train the classifier\n",
    "svm.fit(X_train, y_train)\n",
    "\n",
    "# predict the response for test dataset\n",
    "y_pred = svm.predict(X_test)\n",
    "\n",
    "# evaluate performance\n",
    "mse = mean_squared_error(y_test, y_pred)\n",
    "rmse = mse ** 0.5\n",
    "print(f'RMSE: {rmse}')"
   ]
  },
  {
   "cell_type": "code",
   "execution_count": 15,
   "id": "28e51c62",
   "metadata": {},
   "outputs": [
    {
     "data": {
      "text/plain": [
       "['models/svm_model_generic_reg.pkl']"
      ]
     },
     "execution_count": 15,
     "metadata": {},
     "output_type": "execute_result"
    }
   ],
   "source": [
    "# save model\n",
    "joblib.dump(svm, 'models/svm_model_generic_reg.pkl')"
   ]
  },
  {
   "cell_type": "code",
   "execution_count": 16,
   "id": "4cf1f9d5",
   "metadata": {},
   "outputs": [
    {
     "name": "stdout",
     "output_type": "stream",
     "text": [
      "RMSE: 1276.7165343786091\n",
      "Actual first price: 3050, Predicted first price: 3631.2131879028248\n"
     ]
    }
   ],
   "source": [
    "# quick test\n",
    "svm_loaded = joblib.load('models/svm_model_generic_reg.pkl')\n",
    "y_pred = svm_loaded.predict(X_test)\n",
    "mse = mean_squared_error(y_test, y_pred)\n",
    "rmse = mse ** 0.5\n",
    "print(f'RMSE: {rmse}')\n",
    "actual_first_price = y_test.iloc[0]\n",
    "print(f'Actual first price: {actual_first_price}, Predicted first price: {y_pred[0]}')"
   ]
  },
  {
   "cell_type": "markdown",
   "id": "d8cad7aa",
   "metadata": {},
   "source": [
    "## 6. Multi-layer Perceptron"
   ]
  },
  {
   "cell_type": "code",
   "execution_count": 17,
   "id": "ea2dc0b4",
   "metadata": {},
   "outputs": [
    {
     "name": "stdout",
     "output_type": "stream",
     "text": [
      "RMSE: 1053.0376351603422\n"
     ]
    }
   ],
   "source": [
    "# create MLP classifier\n",
    "mlp = MLPRegressor(solver='lbfgs', alpha=1e-5, hidden_layer_sizes=(5, 2), random_state=1)\n",
    "\n",
    "# train the classifier\n",
    "mlp.fit(X_train, y_train)\n",
    "\n",
    "# predict the response for test dataset\n",
    "y_pred = mlp.predict(X_test)\n",
    "\n",
    "# evaluate performance\n",
    "mse = mean_squared_error(y_test, y_pred)\n",
    "rmse = mse ** 0.5\n",
    "print(f'RMSE: {rmse}')"
   ]
  },
  {
   "cell_type": "code",
   "execution_count": 18,
   "id": "ddf249f8",
   "metadata": {},
   "outputs": [
    {
     "data": {
      "text/plain": [
       "['models/mlp_model_generic_reg.pkl']"
      ]
     },
     "execution_count": 18,
     "metadata": {},
     "output_type": "execute_result"
    }
   ],
   "source": [
    "# save model\n",
    "joblib.dump(mlp, 'models/mlp_model_generic_reg.pkl')"
   ]
  },
  {
   "cell_type": "code",
   "execution_count": 19,
   "id": "96baeea2",
   "metadata": {},
   "outputs": [
    {
     "name": "stdout",
     "output_type": "stream",
     "text": [
      "RMSE: 1053.0376351603422\n",
      "Actual first price: 3050, Predicted first price: 3746.857979976425\n"
     ]
    }
   ],
   "source": [
    "# quick test\n",
    "mlp_loaded = joblib.load('models/mlp_model_generic_reg.pkl')\n",
    "y_pred = mlp_loaded.predict(X_test)\n",
    "mse = mean_squared_error(y_test, y_pred)\n",
    "rmse = mse ** 0.5\n",
    "print(f'RMSE: {rmse}')\n",
    "actual_first_price = y_test.iloc[0]\n",
    "print(f'Actual first price: {actual_first_price}, Predicted first price: {y_pred[0]}')"
   ]
  },
  {
   "cell_type": "markdown",
   "id": "88c11ea7",
   "metadata": {},
   "source": [
    "## 7. Random Forest"
   ]
  },
  {
   "cell_type": "code",
   "execution_count": 20,
   "id": "defa5bd0",
   "metadata": {},
   "outputs": [
    {
     "name": "stdout",
     "output_type": "stream",
     "text": [
      "RMSE: 970.3040862774692\n"
     ]
    }
   ],
   "source": [
    "# create Random Forest classifier\n",
    "rf = RandomForestRegressor(n_estimators=10)\n",
    "\n",
    "# train the classifier\n",
    "rf.fit(X_train, y_train)\n",
    "\n",
    "# predict the response for test dataset\n",
    "y_pred = rf.predict(X_test)\n",
    "\n",
    "# evaluate performance\n",
    "mse = mean_squared_error(y_test, y_pred)\n",
    "rmse = mse ** 0.5\n",
    "print(f'RMSE: {rmse}')"
   ]
  },
  {
   "cell_type": "code",
   "execution_count": 21,
   "id": "7409bc8a",
   "metadata": {},
   "outputs": [
    {
     "data": {
      "text/plain": [
       "['models/rf_model_generic_reg.pkl']"
      ]
     },
     "execution_count": 21,
     "metadata": {},
     "output_type": "execute_result"
    }
   ],
   "source": [
    "# save model\n",
    "joblib.dump(mlp, 'models/rf_model_generic_reg.pkl')"
   ]
  },
  {
   "cell_type": "code",
   "execution_count": 22,
   "id": "2236d1d0",
   "metadata": {},
   "outputs": [
    {
     "name": "stdout",
     "output_type": "stream",
     "text": [
      "RMSE: 1053.0376351603422\n",
      "Actual first price: 3050, Predicted first price: 3746.857979976425\n"
     ]
    }
   ],
   "source": [
    "# quick test\n",
    "rf_loaded = joblib.load('models/rf_model_generic_reg.pkl')\n",
    "y_pred = rf_loaded.predict(X_test)\n",
    "mse = mean_squared_error(y_test, y_pred)\n",
    "rmse = mse ** 0.5\n",
    "print(f'RMSE: {rmse}')\n",
    "actual_first_price = y_test.iloc[0]\n",
    "print(f'Actual first price: {actual_first_price}, Predicted first price: {y_pred[0]}')"
   ]
  }
 ],
 "metadata": {
  "kernelspec": {
   "display_name": "Python 3 (ipykernel)",
   "language": "python",
   "name": "python3"
  },
  "language_info": {
   "codemirror_mode": {
    "name": "ipython",
    "version": 3
   },
   "file_extension": ".py",
   "mimetype": "text/x-python",
   "name": "python",
   "nbconvert_exporter": "python",
   "pygments_lexer": "ipython3",
   "version": "3.9.7"
  }
 },
 "nbformat": 4,
 "nbformat_minor": 5
}
