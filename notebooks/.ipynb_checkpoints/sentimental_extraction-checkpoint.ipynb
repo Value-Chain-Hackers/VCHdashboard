{
 "cells": [
  {
   "cell_type": "markdown",
   "id": "36041701",
   "metadata": {},
   "source": [
    "# Sentimental Extraction\n",
    "- Name: Minh T. Nguyen\n",
    "- Date: 11/24/2023\n",
    "- About:\n",
    "    - **Description Sentiment Analysis**: Use pretrained models to performed sentimental analysis and create new feature.\n",
    "    - I only run the first 5 rows to show it work. The actual run is performed on Kaggle's GPU accelerator."
   ]
  },
  {
   "cell_type": "code",
   "execution_count": 1,
   "id": "2feb5cbf",
   "metadata": {},
   "outputs": [
    {
     "name": "stdout",
     "output_type": "stream",
     "text": [
      "images_sample\t\tsentimental_extraction_kaggle.csv   train.json\r\n",
      "Kaggle-renthop.torrent\tsentimental_extraction_kaggle.json\r\n",
      "note.md\t\t\tsentimental_extraction_sample.csv\r\n"
     ]
    }
   ],
   "source": [
    "!ls ../data"
   ]
  },
  {
   "cell_type": "code",
   "execution_count": 2,
   "id": "c6d07b06",
   "metadata": {},
   "outputs": [],
   "source": [
    "!pip install -q transformers"
   ]
  },
  {
   "cell_type": "markdown",
   "id": "2752025f",
   "metadata": {},
   "source": [
    "**Note:** The datasets can be found [here]((https://www.kaggle.com/competitions/two-sigma-connect-rental-listing-inquiries/data?select=train.json.zip)).\n",
    "- train.json: the training set.\n",
    "- images_sample.zip: listing images organized by listing_id (a sample of 100 listings)\n",
    "- Kaggle-renthop.7z: listing images organized by listing_id. Total size: 78.5 GB compressed."
   ]
  },
  {
   "cell_type": "code",
   "execution_count": null,
   "id": "8e2c93eb",
   "metadata": {},
   "outputs": [
    {
     "name": "stderr",
     "output_type": "stream",
     "text": [
      "/home/mnguyen0226/anaconda3/lib/python3.9/site-packages/pandas/core/computation/expressions.py:21: UserWarning: Pandas requires version '2.8.0' or newer of 'numexpr' (version '2.7.3' currently installed).\n",
      "  from pandas.core.computation.check import NUMEXPR_INSTALLED\n",
      "/home/mnguyen0226/anaconda3/lib/python3.9/site-packages/pandas/core/arrays/masked.py:62: UserWarning: Pandas requires version '1.3.4' or newer of 'bottleneck' (version '1.3.2' currently installed).\n",
      "  from pandas.core import (\n",
      "2023-11-25 19:03:24.070486: I tensorflow/core/util/port.cc:110] oneDNN custom operations are on. You may see slightly different numerical results due to floating-point round-off errors from different computation orders. To turn them off, set the environment variable `TF_ENABLE_ONEDNN_OPTS=0`.\n",
      "2023-11-25 19:03:24.072985: I tensorflow/tsl/cuda/cudart_stub.cc:28] Could not find cuda drivers on your machine, GPU will not be used.\n",
      "2023-11-25 19:03:24.128765: I tensorflow/tsl/cuda/cudart_stub.cc:28] Could not find cuda drivers on your machine, GPU will not be used.\n",
      "2023-11-25 19:03:24.129704: I tensorflow/core/platform/cpu_feature_guard.cc:182] This TensorFlow binary is optimized to use available CPU instructions in performance-critical operations.\n",
      "To enable the following instructions: AVX2 AVX512F AVX512_VNNI FMA, in other operations, rebuild TensorFlow with the appropriate compiler flags.\n"
     ]
    }
   ],
   "source": [
    "# import libraries\n",
    "import numpy as np\n",
    "import pandas as pd\n",
    "from transformers import pipeline\n",
    "from transformers import AutoTokenizer\n",
    "import re\n",
    "\n",
    "import warnings\n",
    "warnings.filterwarnings('ignore')"
   ]
  },
  {
   "cell_type": "markdown",
   "id": "079295d4",
   "metadata": {},
   "source": [
    "## 1. Import dataset"
   ]
  },
  {
   "cell_type": "code",
   "execution_count": null,
   "id": "43606db1",
   "metadata": {},
   "outputs": [],
   "source": [
    "# import the dataset\n",
    "df = pd.read_json(\"../data/train.json\")\n",
    "df.head(5)"
   ]
  },
  {
   "cell_type": "code",
   "execution_count": null,
   "id": "df0e3940",
   "metadata": {},
   "outputs": [],
   "source": [
    "# outlier removal\n",
    "upper_bound = np.percentile(df[\"price\"].values, 99)\n",
    "df_filtered = df[df[\"price\"] <= upper_bound]"
   ]
  },
  {
   "cell_type": "code",
   "execution_count": null,
   "id": "76bbb11e",
   "metadata": {},
   "outputs": [],
   "source": [
    "# use the first 5 row for test only\n",
    "df_filtered = df_filtered.head(5) "
   ]
  },
  {
   "cell_type": "code",
   "execution_count": null,
   "id": "a209e3a0",
   "metadata": {},
   "outputs": [],
   "source": [
    "df_filtered.head(5)"
   ]
  },
  {
   "cell_type": "markdown",
   "id": "3c57cd86",
   "metadata": {},
   "source": [
    "## 2. Sentimental Analysis With Pretrained Model\n",
    "- The model used is called \"distilbert-base-finetuned-sst-2-english\" which is a small and fast version of BERT. The model is trained on Stanford Sentiment Treebank (SST-2) dataset which consists of sentences from movie reviews labeled with their sentiment.\n",
    "- DistilBERT itself is a transformer-based model that is a distilled version of BERT, designed to be faster and lighter while still retaining most of BERT's performance. It follows the BERT architecture, which is an attention-based neural network: it uses self-attention mechanisms to weigh the importance of different words in a sentence.\n",
    "- Since their is no available pretrained-BERT for apartment-vocab, this is a good general-purpose sentimental analysis model\n",
    "\n",
    "### Resources\n",
    "- [BERT Neural Network - EXPLAINED!](https://www.youtube.com/watch?v=xI0HHN5XKDo)\n",
    "- [What is BERT and how does it work? | A Quick Review](https://www.youtube.com/watch?v=6ahxPTLZxU8)"
   ]
  },
  {
   "cell_type": "code",
   "execution_count": null,
   "id": "49318381",
   "metadata": {},
   "outputs": [],
   "source": [
    "# get the first description\n",
    "test_des = df_filtered.description.iloc[0]\n",
    "print(test_des)"
   ]
  },
  {
   "cell_type": "code",
   "execution_count": null,
   "id": "7fa68d93",
   "metadata": {
    "scrolled": true
   },
   "outputs": [],
   "source": [
    "# function to clean HTML tags and whitespace\n",
    "def preprocess_text(text):\n",
    "    text = re.sub(r'<[^>]+>', '', text)  # remove HTML tags\n",
    "    text = re.sub(r'\\s+', ' ', text)     # replace multiple whitespaces with single space\n",
    "    return text.strip()\n",
    "\n",
    "tokenizer = AutoTokenizer.from_pretrained('distilbert-base-uncased')\n",
    "\n",
    "# function to truncate text to a max length\n",
    "def truncate_text(text, max_length=500):\n",
    "    # encode the text, ensuring that the total length of the input does not exceed 500 tokens\n",
    "    inputs = tokenizer.encode_plus(\n",
    "        text, \n",
    "        add_special_tokens=True, \n",
    "        max_length=max_length, \n",
    "        truncation=True\n",
    "    )\n",
    "    # decode back to a string, without the special tokens\n",
    "    truncated_text = tokenizer.decode(inputs['input_ids'], skip_special_tokens=True)\n",
    "    return truncated_text\n",
    "\n",
    "# initialize sentiment analysis pipeline\n",
    "sentiment_pipeline = pipeline(\"sentiment-analysis\")\n",
    "\n",
    "# function to get sentiment score\n",
    "def get_sentiment(text):\n",
    "    print(f\"Processed\")\n",
    "    return sentiment_pipeline(text)[0]\n",
    "\n",
    "# apply preprocessing to the descriptions\n",
    "df_filtered['clean_description'] = df_filtered['description'].apply(preprocess_text)\n",
    "\n",
    "# truncate descriptions to max_length\n",
    "df_filtered['truncated_description'] = df_filtered['clean_description'].apply(truncate_text)\n",
    "\n",
    "# perform sentiment analysis\n",
    "df_filtered['sentiment'] = df_filtered['truncated_description'].apply(get_sentiment)\n",
    "\n",
    "# define thresholds for sentiment classification\n",
    "positive_threshold = 0.75\n",
    "negative_threshold = 0.25\n",
    "\n",
    "# function to classify sentiment\n",
    "def classify_sentiment(sentiment):\n",
    "    score = sentiment['score']\n",
    "    if sentiment['label'] == 'POSITIVE' and score >= positive_threshold:\n",
    "        return 1\n",
    "    elif sentiment['label'] == 'NEGATIVE' and score <= negative_threshold:\n",
    "        return -1\n",
    "    else:\n",
    "        return 0\n",
    "\n",
    "# apply sentiment classification to the dataframe\n",
    "df_filtered['sentiment_label'] = df_filtered['sentiment'].apply(classify_sentiment)"
   ]
  },
  {
   "cell_type": "code",
   "execution_count": null,
   "id": "c909e2b5",
   "metadata": {},
   "outputs": [],
   "source": [
    "# check dataset\n",
    "df_filtered.head(5)"
   ]
  },
  {
   "cell_type": "code",
   "execution_count": null,
   "id": "4b5d9eb3",
   "metadata": {},
   "outputs": [],
   "source": [
    "# save dataset\n",
    "df_filtered.to_csv(\"../data/sentimental_extraction_sample.csv\")"
   ]
  }
 ],
 "metadata": {
  "kernelspec": {
   "display_name": "Python 3 (ipykernel)",
   "language": "python",
   "name": "python3"
  },
  "language_info": {
   "codemirror_mode": {
    "name": "ipython",
    "version": 3
   },
   "file_extension": ".py",
   "mimetype": "text/x-python",
   "name": "python",
   "nbconvert_exporter": "python",
   "pygments_lexer": "ipython3",
   "version": "3.9.7"
  }
 },
 "nbformat": 4,
 "nbformat_minor": 5
}
